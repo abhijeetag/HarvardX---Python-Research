{
 "cells": [
  {
   "cell_type": "code",
   "execution_count": 1,
   "metadata": {},
   "outputs": [
    {
     "data": {
      "text/plain": [
       "0.13436424411240122"
      ]
     },
     "execution_count": 1,
     "metadata": {},
     "output_type": "execute_result"
    }
   ],
   "source": [
    "#2b\n",
    "import random\n",
    "\n",
    "random.seed(1) # This line fixes the value called by your function,\n",
    "               # and is used for answer-checking.\n",
    "\n",
    "def rand():\n",
    "    x = random.uniform(0,1)\n",
    "    return x\n",
    "   # define `rand` here!\n",
    "rand()\n"
   ]
  },
  {
   "cell_type": "code",
   "execution_count": 23,
   "metadata": {},
   "outputs": [
    {
     "name": "stdout",
     "output_type": "stream",
     "text": [
      "1.4142135623730951\n"
     ]
    }
   ],
   "source": [
    "#2c\n",
    "import math\n",
    "def distance(x, y):\n",
    "   # define your function here!\n",
    "   distance = math.sqrt((x[1] - y[1])**2 + (x[0]-y[0])**2)\n",
    "   return distance\n",
    "   \n",
    "\n",
    "d = distance([0,0], [1,1])\n",
    "print(d)"
   ]
  },
  {
   "cell_type": "code",
   "execution_count": 36,
   "metadata": {},
   "outputs": [
    {
     "name": "stdout",
     "output_type": "stream",
     "text": [
      "True\n",
      "0.28284271247461906\n"
     ]
    }
   ],
   "source": [
    "#2d\n",
    "\n",
    "import random, math\n",
    "\n",
    "random.seed(1)\n",
    "\n",
    "def in_circle(x, origin = [0]*2):\n",
    "    if distance(x, origin) <1: \n",
    "        return True\n",
    "    else:\n",
    "        return False\n",
    "        \n",
    "check = in_circle((0.2,0.2))\n",
    "print(check)\n",
    "print(distance([0.2,0.2], [0,0]))"
   ]
  },
  {
   "cell_type": "code",
   "execution_count": 47,
   "metadata": {},
   "outputs": [
    {
     "name": "stdout",
     "output_type": "stream",
     "text": [
      "An estimate of pi is:  3.14512\n",
      "Error is -0.0035273464102067997\n"
     ]
    }
   ],
   "source": [
    "#2e\n",
    "\n",
    "R = 100000\n",
    "x = []\n",
    "inside = []\n",
    "for i in range(R):\n",
    "    point = [rand(), rand()]\n",
    "    x.append(point)\n",
    "    inside.append(in_circle(point))\n",
    "\n",
    "prop = sum(inside) / R\n",
    "print(\"An estimate of pi is: \", prop*4)\n",
    "print(\"Error is\", math.pi - prop*4 )\n",
    "# print(\"x examples are: \", x[0:10])\n",
    "# print(\"Outside examples are: \", inside[0:10])\n",
    "# Enter your code here! #\n"
   ]
  },
  {
   "cell_type": "code",
   "execution_count": 105,
   "metadata": {},
   "outputs": [
    {
     "name": "stdout",
     "output_type": "stream",
     "text": [
      "[3.0, 3.6, 3.8, 4.8, 3.8, 3.8]\n"
     ]
    }
   ],
   "source": [
    "#3a\n",
    "\n",
    "import random\n",
    "\n",
    "random.seed(1)\n",
    "\n",
    "def moving_window_average(x, n_neighbors=1):\n",
    "    n = len(x)\n",
    "    width = n_neighbors*2 + 1\n",
    "    x = [x[0]]*n_neighbors + x + [x[-1]]*n_neighbors\n",
    "#     print(\"x is adjusted to: \", x)\n",
    "    # To complete the function,\n",
    "    # return a list of the mean of values from i to i+width for all values i from 0 to n-1.\n",
    "    avgs = []\n",
    "    for i in range(n): #for each original x\n",
    "#         print(\"Calculating for x at position: \", i, \" and x is \",x[n_neighbors+i])\n",
    "        total = 0\n",
    "        for m in range(width): #iterate the number of times we require neighbours\n",
    "            total = total+x[i+m]\n",
    "#             print(\"Iteration m\", m, \" total is: \", total)\n",
    "        \n",
    "#         print(\"Total is: \", total)\n",
    "#         print(\"Average is: \", total/width)\n",
    "        avgs.append(total/width)\n",
    "                  \n",
    "\n",
    "\n",
    "    return avgs\n",
    "\n",
    "x=[0,10,5,3,1,5]\n",
    "print(moving_window_average(x,2 ))\n"
   ]
  },
  {
   "cell_type": "code",
   "execution_count": 132,
   "metadata": {},
   "outputs": [
    {
     "name": "stdout",
     "output_type": "stream",
     "text": [
      "x is length:  5\n"
     ]
    }
   ],
   "source": [
    "#3b\n",
    "# Compute and store R=1000 random values from 0-1 as x.\n",
    "# moving_window_average(x, n_neighbors) is pre-loaded into memory from 3a. Compute the moving window average for x for values of n_neighbors ranging from 1 to 9 inclusive.\n",
    "# Store x as well as each of these averages as consecutive lists in a list called Y.\n",
    "\n",
    "import random\n",
    "\n",
    "random.seed(1) # This line fixes the value called by your function,\n",
    "               # and is used for answer-checking.\n",
    "    \n",
    "# write your code here!\n",
    "\n",
    "R = 5\n",
    "\n",
    "x = []\n",
    "Y = []\n",
    "for i in range(R):\n",
    "    x.append(random.uniform(0,1))\n",
    "\n",
    "print(\"x is length: \", len(x))\n",
    "\n",
    "for j in range(9):\n",
    "#     print(\"Moving Avg \", j+1, \" \", moving_window_average(x,j+1))\n",
    "    Y.append(moving_window_average(x,j+1))\n",
    "\n"
   ]
  },
  {
   "cell_type": "code",
   "execution_count": 141,
   "metadata": {},
   "outputs": [
    {
     "name": "stdout",
     "output_type": "stream",
     "text": [
      "[0.13436424411240122, 0.8474337369372327, 0.763774618976614, 0.2550690257394217, 0.49543508709194095]\n",
      "[0.3720540750540117, 0.5818575333420827, 0.6220924605510895, 0.5047595772693255, 0.4153130666411012]\n",
      "[0.40286021765021013, 0.4270011739756141, 0.49921534257152206, 0.5714295111674301, 0.5010297811983716]\n",
      "[0.3433906225861248, 0.3949721715832019, 0.44655372058027887, 0.498135269577356, 0.5497168185744331]\n",
      "[0.3370592988119128, 0.37717828136519505, 0.4172972639184772, 0.4574162464717593, 0.49753522902504155]\n",
      "[0.3330302745919598, 0.3658548966810089, 0.3986795187700579, 0.431504140859107, 0.46432876294815606]\n",
      "[0.3302409501319923, 0.3580156303611877, 0.3857903105903831, 0.4135649908195784, 0.4413396710487738]\n",
      "[0.32819544552801616, 0.3522668350599855, 0.3763382245919548, 0.4004096141239242, 0.4244810036558935]\n",
      "[0.3266312361249756, 0.34787069747671323, 0.3691101588284509, 0.39034962018018854, 0.4115890815319262]\n",
      "[0.3253963339646804, 0.3444000625425509, 0.3634037911204214, 0.38240751969829195, 0.40141124827616254]\n",
      "z is:  [0.7130694928248315, 0.25003838549707774, 0.16856929351722, 0.20632619598830831, 0.16047593021312873, 0.13129848835619629, 0.11109872091678152, 0.09628555812787731, 0.08495784540695062, 0.07601491431148216]\n"
     ]
    }
   ],
   "source": [
    "#3c\n",
    "z = []\n",
    "for item in Y:\n",
    "    print(item)\n",
    "    rng = max(item)-min(item)\n",
    "    z.append(rng)\n",
    "print(\"z is: \", z)"
   ]
  },
  {
   "cell_type": "code",
   "execution_count": null,
   "metadata": {
    "collapsed": true
   },
   "outputs": [],
   "source": []
  },
  {
   "cell_type": "code",
   "execution_count": null,
   "metadata": {
    "collapsed": true
   },
   "outputs": [],
   "source": []
  },
  {
   "cell_type": "code",
   "execution_count": null,
   "metadata": {
    "collapsed": true
   },
   "outputs": [],
   "source": []
  },
  {
   "cell_type": "code",
   "execution_count": null,
   "metadata": {
    "collapsed": true
   },
   "outputs": [],
   "source": []
  },
  {
   "cell_type": "code",
   "execution_count": null,
   "metadata": {
    "collapsed": true
   },
   "outputs": [],
   "source": []
  },
  {
   "cell_type": "code",
   "execution_count": null,
   "metadata": {
    "collapsed": true
   },
   "outputs": [],
   "source": []
  },
  {
   "cell_type": "code",
   "execution_count": null,
   "metadata": {
    "collapsed": true
   },
   "outputs": [],
   "source": []
  },
  {
   "cell_type": "code",
   "execution_count": null,
   "metadata": {
    "collapsed": true
   },
   "outputs": [],
   "source": []
  },
  {
   "cell_type": "code",
   "execution_count": null,
   "metadata": {
    "collapsed": true
   },
   "outputs": [],
   "source": []
  },
  {
   "cell_type": "code",
   "execution_count": null,
   "metadata": {
    "collapsed": true
   },
   "outputs": [],
   "source": []
  },
  {
   "cell_type": "code",
   "execution_count": null,
   "metadata": {
    "collapsed": true
   },
   "outputs": [],
   "source": []
  },
  {
   "cell_type": "code",
   "execution_count": null,
   "metadata": {
    "collapsed": true
   },
   "outputs": [],
   "source": []
  }
 ],
 "metadata": {
  "kernelspec": {
   "display_name": "Python 3",
   "language": "python",
   "name": "python3"
  },
  "language_info": {
   "codemirror_mode": {
    "name": "ipython",
    "version": 3
   },
   "file_extension": ".py",
   "mimetype": "text/x-python",
   "name": "python",
   "nbconvert_exporter": "python",
   "pygments_lexer": "ipython3",
   "version": "3.6.2"
  }
 },
 "nbformat": 4,
 "nbformat_minor": 2
}
